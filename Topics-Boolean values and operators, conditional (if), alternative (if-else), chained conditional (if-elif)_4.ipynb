{
 "cells": [
  {
   "cell_type": "code",
   "execution_count": 1,
   "metadata": {},
   "outputs": [
    {
     "name": "stdout",
     "output_type": "stream",
     "text": [
      "it is uppercase: A\n"
     ]
    }
   ],
   "source": [
    "a = input(\"enter the line:\",)\n",
    "if a.isupper():\n",
    "    print(\"it is uppercase:\",a)\n",
    "else: \n",
    "    print(\"it is not uppercase:\",a)"
   ]
  },
  {
   "cell_type": "code",
   "execution_count": 4,
   "metadata": {},
   "outputs": [
    {
     "name": "stdout",
     "output_type": "stream",
     "text": [
      "it is a alphanumeric line: arcade\n"
     ]
    }
   ],
   "source": [
    "char=input(\"enter the number or character:\",)\n",
    "if char.isalpha():\n",
    "    print(\"it is a alphanumeric line:\",char)\n",
    "else:\n",
    "    print(\"it is a numeric line:\",char)"
   ]
  },
  {
   "cell_type": "code",
   "execution_count": 12,
   "metadata": {},
   "outputs": [
    {
     "name": "stdout",
     "output_type": "stream",
     "text": [
      "NO COLOR IN TRAFFIC LIGHT- pink\n"
     ]
    }
   ],
   "source": [
    "This code snippet is a simple traffic light simulation program. It prompts the user to enter the color of a traffic light and then checks the input against three possible colors: \"red\", \"yellow\", and \"green\".\n",
    "color=input(\"enter the color of traffic light \")\n",
    "if color==\"red\":\n",
    "    print(\"STOP-\",color)\n",
    "elif color==\"yellow\":\n",
    "    print(\"WAIT-\",color)\n",
    "elif color==\"green\":\n",
    "    print(\"GO-\",color)\n",
    "else :\n",
    "    print(\"NO COLOR IN TRAFFIC LIGHT-\",color)\n"
   ]
  },
  {
   "cell_type": "code",
   "execution_count": 16,
   "metadata": {},
   "outputs": [
    {
     "name": "stdout",
     "output_type": "stream",
     "text": [
      "the string is lowercase and starts with a: amazon forest\n"
     ]
    }
   ],
   "source": [
    "string=input(\"enter the string\")\n",
    "if string.startswith(\"a\") and string.islower():\n",
    "    print(\"the string is lowercase and starts with a:\",string)\n",
    "else:\n",
    "    print(\"the string is neither lowercase nor starts with a:\",string)\n",
    "\n",
    "    "
   ]
  },
  {
   "cell_type": "code",
   "execution_count": 18,
   "metadata": {},
   "outputs": [
    {
     "name": "stdout",
     "output_type": "stream",
     "text": [
      "(-0.7499999999999999+1.1989578808281798j) (-0.7500000000000001-1.1989578808281798j)\n"
     ]
    }
   ],
   "source": [
    "a=float(input(\"enter the digit a\"))\n",
    "b=float(input(\"enter the digit c\"))\n",
    "c=float(input(\"enter the digit\"))\n",
    "d=b**2-(4*a*c)\n",
    "e1=(-b+(d**0.5))/(2*a)\n",
    "e2=(-b-(d**0.5))/(2*a)\n",
    "print(e1,e2)"
   ]
  },
  {
   "cell_type": "code",
   "execution_count": 25,
   "metadata": {},
   "outputs": [
    {
     "name": "stdout",
     "output_type": "stream",
     "text": [
      "the year is a leap year: 2024\n"
     ]
    }
   ],
   "source": [
    "year = int(input(\"enter the year\"))\n",
    "if year%400==0:\n",
    "    print(\"the year is a leap year:\",year)\n",
    "else:\n",
    "    if year%100==0:\n",
    "        print(\"the year is not a leap year:\",year)\n",
    "    elif year%4==0:\n",
    "        print(\"the year is a leap year:\",year)\n",
    "    else:\n",
    "        print(\"the year is not a leap year:\",year)"
   ]
  },
  {
   "cell_type": "code",
   "execution_count": 33,
   "metadata": {},
   "outputs": [
    {
     "name": "stdout",
     "output_type": "stream",
     "text": [
      "No tax\n"
     ]
    }
   ],
   "source": [
    "income= int(input(\"enter your income:\",))\n",
    "if income<=250000:\n",
    "    print(\"No tax\")\n",
    "elif income>=250001 and income<=500000:\n",
    "    print(\"tax to be paid=\",income*5/100)\n",
    "elif income>=500001 and income<=1000000:\n",
    "    print(\"tax to be paid=\",income*20/100)\n",
    "elif income>=1000001:\n",
    "    print(\"tax to be paid=\",income*30/100)\n",
    "else:\n",
    "    print(\"Error=\",income)"
   ]
  },
  {
   "cell_type": "code",
   "execution_count": 39,
   "metadata": {},
   "outputs": [
    {
     "name": "stdout",
     "output_type": "stream",
     "text": [
      "isosceles triangle with two same sides\n"
     ]
    }
   ],
   "source": [
    "a = int(input(\"enter the side a\"))\n",
    "b = int(input(\"enter the side b\"))\n",
    "c = int(input(\"enter the side c\"))\n",
    "if a==b and a==c:\n",
    "    print(\"equilateral triangle with all equal sides\")\n",
    "elif a==b and a!=c:\n",
    "    print(\"isosceles triangle with two same sides\")\n",
    "elif a!=b and a==c:\n",
    "    print(\"isosceles triangle with two same sides\")\n",
    "elif b==c and b!=a:\n",
    "    print(\"isosceles triangle with two same sides\")\n",
    "else:\n",
    "    print(\"scaler triangle with all sides different\")"
   ]
  }
 ],
 "metadata": {
  "kernelspec": {
   "display_name": "Python 3",
   "language": "python",
   "name": "python3"
  },
  "language_info": {
   "codemirror_mode": {
    "name": "ipython",
    "version": 3
   },
   "file_extension": ".py",
   "mimetype": "text/x-python",
   "name": "python",
   "nbconvert_exporter": "python",
   "pygments_lexer": "ipython3",
   "version": "3.12.5"
  }
 },
 "nbformat": 4,
 "nbformat_minor": 2
}
