{
 "cells": [
  {
   "cell_type": "code",
   "execution_count": 1,
   "metadata": {},
   "outputs": [
    {
     "name": "stdout",
     "output_type": "stream",
     "text": [
      "Maximum element is 15\n"
     ]
    }
   ],
   "source": [
    "#Q1. Implement a function to find the majority element in\n",
    "# a list. [Do not use any inbuilt function]\n",
    "l=[1,2,3,4,5,6,7,8,9,15]\n",
    "max=l[0]\n",
    "for i in l:\n",
    "    if max<i:\n",
    "        max=i\n",
    "print(\"Maximum element is\",max)"
   ]
  },
  {
   "cell_type": "code",
   "execution_count": null,
   "metadata": {},
   "outputs": [],
   "source": [
    "#Q2. Write a python program to cloning or copying a list\n",
    "# using the following methods\n",
    "# a): By following the Slicing technique\n",
    "def clone_using_slicing(lst):\n",
    "    return lst\n",
    "lst = [1,2,3,4,5,6,7,8,9]\n",
    "new_lst = clone_using_slicing(lst)\n",
    "print(\"orignal list\",lst)\n",
    "print(\"new list\",new_lst)\n"
   ]
  },
  {
   "cell_type": "code",
   "execution_count": null,
   "metadata": {},
   "outputs": [],
   "source": [
    "#b) Using extend() method\n",
    "def clone_using_extend(lst):\n",
    "    new_lst = []\n",
    "    new_lst.extend(lst)\n",
    "    return new_lst\n",
    "lst = [1,3,5,7,9,11,13,15]\n",
    "new_lst = clone_using_extend(lst)\n",
    "print(\"orignal list\",lst)\n",
    "print(\"extended list\",new_lst)"
   ]
  },
  {
   "cell_type": "code",
   "execution_count": null,
   "metadata": {},
   "outputs": [],
   "source": [
    "#c) By using list() method\n",
    "def clone_using_list(lst):\n",
    "    return list(lst)\n",
    "lst = [1, 2, 3, 4, 5]\n",
    "new_lst=clone_using_list(lst)\n",
    "print(\"orignal list\",lst)\n",
    "print(\"new list\",new_lst)"
   ]
  },
  {
   "cell_type": "code",
   "execution_count": null,
   "metadata": {},
   "outputs": [],
   "source": [
    "#d) By using list comprehension\n",
    "def clone_using_listcomprehension(lst):\n",
    "    return [x for x in lst]\n",
    "lst=[1,2,3,6,7,8,9]\n",
    "new_lst =clone_using_listcomprehension(lst)\n",
    "print(\"orignal list\",lst)\n",
    "print(\"new list\",new_lst)"
   ]
  },
  {
   "cell_type": "code",
   "execution_count": null,
   "metadata": {},
   "outputs": [],
   "source": [
    "#e) By using append() method\n",
    "def clone_using_append(lst):\n",
    "    new_lst=[]\n",
    "    for i in lst:\n",
    "        new_lst.append(i)\n",
    "    return lst.append(lst)\n",
    "lst = [6,7,8,9,10]\n",
    "new_lst = clone_using_append(lst)\n",
    "print(\"orignal list\",lst)\n",
    "print(\"new list\",new_lst)"
   ]
  },
  {
   "cell_type": "code",
   "execution_count": null,
   "metadata": {},
   "outputs": [],
   "source": [
    "#f) By using copy() method\n",
    "def clone_using_copy(lst):\n",
    "    return lst.copy()\n",
    "lst = [222,444,333,555]\n",
    "new_lst= clone_using_copy(lst)\n",
    "print(\"orignal list\",lst)\n",
    "print(\"new list\",new_lst)"
   ]
  },
  {
   "cell_type": "code",
   "execution_count": null,
   "metadata": {},
   "outputs": [],
   "source": [
    "#Q4. Perform operations on a list:\n",
    "#a) Remove all duplicates\n",
    "def remove_duplicates(lst):\n",
    "    return list(set(lst))\n",
    "lst=[1,1,1,1,1,1,1,3,3,3,4,5,6,3,2,2,2,2,]\n",
    "print (\"newlist\",remove_duplicates(lst))"
   ]
  },
  {
   "cell_type": "code",
   "execution_count": null,
   "metadata": {},
   "outputs": [],
   "source": [
    "#b) Reverse a list in-place\n",
    "def reverse_list_in_place(lst):\n",
    "    lst.reverse()\n",
    "lst= [1,2,3,4,5,6,7,8,9,19]\n",
    "reverse_list_in_place(lst)\n"
   ]
  },
  {
   "cell_type": "code",
   "execution_count": null,
   "metadata": {},
   "outputs": [],
   "source": [
    "#c) Check if a list is empty\n",
    "def check_empty_lst(lst):\n",
    "    return len(lst) == 0\n",
    "lst=[0]\n",
    "print(check_empty_lst(lst))\n"
   ]
  },
  {
   "cell_type": "code",
   "execution_count": null,
   "metadata": {},
   "outputs": [],
   "source": [
    "#d) Find the index of the first occurrence of an element\n",
    "def index_of_first_occurrence_of_an_element(lst, element):\n",
    "    return lst.index(element)\n",
    "lst = [1,3,5,6,2,7,6,8]\n",
    "print(index_of_first_occurrence_of_an_element(lst,7))"
   ]
  },
  {
   "cell_type": "code",
   "execution_count": null,
   "metadata": {},
   "outputs": [],
   "source": [
    "#e) Create a new list containing only even numbers\n",
    "def new_list_containing_only_even_numbers(lst):\n",
    "    return [num for num in lst if num % 2 == 0]\n",
    "lst=[11,2,3333,454456,567,876,1234589]\n",
    "print(\"list with even numbers only\",new_list_containing_only_even_numbers(lst))\n"
   ]
  },
  {
   "cell_type": "code",
   "execution_count": null,
   "metadata": {},
   "outputs": [],
   "source": [
    "#f) Remove all occurrences of a specific element\n",
    "def remove_specific_elements(lst,specificelement):\n",
    "    return [i for i in lst if i != specificelement]\n",
    "lst=[1,233,44,5,6,786,23,46,12]\n",
    "print(\"new list with specific elements \",remove_specific_elements(lst,23))\n"
   ]
  },
  {
   "cell_type": "code",
   "execution_count": null,
   "metadata": {},
   "outputs": [],
   "source": [
    "#g) Find the common elements between two lists\n",
    "def common_elements_between_lists(lst1 , lst2):\n",
    "    return [element for element in lst1 if element in lst2]\n",
    "lst1=[1,2,3,4,5,6,7,8,9]\n",
    "lst2=[7,8,9,0,101,11,12,12,13,1,3]\n",
    "print(\"common elements between list1 & list2\",common_elements_between_lists(lst1, lst2))"
   ]
  },
  {
   "cell_type": "code",
   "execution_count": null,
   "metadata": {},
   "outputs": [],
   "source": [
    "#h) Flatten a list of lists into a single list\n",
    "def flatten_lists(lst_of_lsts):\n",
    "    return [item for sublist in lst_of_lsts for item in sublist]\n",
    "lsts = [33,22,11],[89,99,109],[67,68,69]\n",
    "print(flatten_lists(lsts))\n"
   ]
  }
 ],
 "metadata": {
  "kernelspec": {
   "display_name": "Python 3",
   "language": "python",
   "name": "python3"
  },
  "language_info": {
   "codemirror_mode": {
    "name": "ipython",
    "version": 3
   },
   "file_extension": ".py",
   "mimetype": "text/x-python",
   "name": "python",
   "nbconvert_exporter": "python",
   "pygments_lexer": "ipython3",
   "version": "3.11.9"
  }
 },
 "nbformat": 4,
 "nbformat_minor": 2
}
