{
 "cells": [
  {
   "cell_type": "code",
   "execution_count": null,
   "metadata": {},
   "outputs": [
    {
     "name": "stdout",
     "output_type": "stream",
     "text": [
      "The area of the rectangle is: 9\n"
     ]
    }
   ],
   "source": [
    "# Q1. WAP to calculate the area of a rectangle\n",
    "\n",
    "def rectangle_area(length, width):\n",
    "    return length * width\n",
    "length = int(input(\"Enter the length of the rectangle: \"))\n",
    "width = int(input(\"Enter the width of the rectangle: \"))\n",
    "print(\"The area of the rectangle is:\", rectangle_area(length, width))\n"
   ]
  },
  {
   "cell_type": "code",
   "execution_count": null,
   "metadata": {},
   "outputs": [
    {
     "name": "stdout",
     "output_type": "stream",
     "text": [
      "The smallest value is: 1\n"
     ]
    }
   ],
   "source": [
    "# Q2. WAP to find the smallest value from the list of n numbers.\n",
    "\n",
    "def find_smallest(num):\n",
    "    return min(num)\n",
    "n = int(input(\"Enter the number of elements: \"))\n",
    "num = [int(input()) for _ in range(n)]\n",
    "print(\"The smallest value is:\", find_smallest(num))\n"
   ]
  },
  {
   "cell_type": "code",
   "execution_count": null,
   "metadata": {},
   "outputs": [],
   "source": [
    "# Q3. WAP to calculate the greatest common divisor of two numbers.\n",
    "\n",
    "import math\n",
    "def gcd(a, b):\n",
    "    return math.gcd(a, b)\n",
    "a = int(input(\"Enter first number: \"))\n",
    "b = int(input(\"Enter second number: \"))\n",
    "print(\"The greatest common divisor is:\", gcd(a, b))\n"
   ]
  },
  {
   "cell_type": "code",
   "execution_count": null,
   "metadata": {},
   "outputs": [],
   "source": [
    "# Q4. WAP to find the exponentiation of a number.\n",
    "\n",
    "def exponention(base,exponent):\n",
    "    return base**exponent\n",
    "base=float(input(\"enter your base\"))\n",
    "exponent=int(input(\"enter your exponent:\"))\n",
    "result=exponention(base,exponent)\n",
    "\n",
    "print(f\"{base}raised to power of exponent \")\n",
    "\n"
   ]
  },
  {
   "cell_type": "code",
   "execution_count": null,
   "metadata": {},
   "outputs": [],
   "source": [
    "# Q5. WAP to find first n prime numbers.\n",
    "\n",
    "def check_prime(s):\n",
    "    for i in range (2,s):\n",
    "        if s%i==0:\n",
    "            return False\n",
    "        elif s%i!=0:\n",
    "            return True\n",
    "\t\n",
    "def find_nprime(s):\n",
    "    nprime=[]\n",
    "    for i in range (2,(s)):\n",
    "            if check_prime(i):\n",
    "                nprime.append(i)\n",
    "            return  nprime\n",
    "s=int(input(\"enter the number:\"))\n",
    "check=find_nprime(s)\n",
    "print(check)\n"
   ]
  },
  {
   "cell_type": "code",
   "execution_count": null,
   "metadata": {},
   "outputs": [],
   "source": [
    "# Q6. WAP to count the numbers of (i) characters, (ii) Vovels and (iii) Consonents in the string. Make\n",
    "# saperate functions and call.\n",
    "\n",
    "# 1\n",
    "def count_characters(a):\n",
    "    return len(a)\n",
    "a = input(\"enter your string :\")\n",
    "number_of_character = count_characters(a)\n",
    "print(f\"no. of character in string is {number_of_character} \")\n",
    "\n",
    "# 2\n",
    "def count_vowels(string):\n",
    "    vowels = \"aeiuoAEIOU\"\n",
    "    vowels_count=0\n",
    "    \n",
    "    for char in string:\n",
    "        if char in vowels :\n",
    "            vowels_count += 1        \n",
    "    return vowels_count\n",
    "    \n",
    "input_string= input(\"input a string:\")\n",
    "vowels_count = count_vowels(input_string)\n",
    "print(f\"no. of vowels in string id {vowels_count}\")\n",
    "\n",
    "\n",
    "# 3\n",
    "\n",
    "def count_consonents(string):\n",
    "    vowels = \"aeiouAIOEU\"\n",
    "    consonents_count = 0\n",
    "    \n",
    "    for char in string:\n",
    "        if char.isalpha() and char not in vowels:\n",
    "            consonents_count += 1\n",
    "    return consonents_count\n",
    "\n",
    "input_string=input(\"input a string:\")\n",
    "nofconsonents = count_consonents(input_string)\n",
    "print(f\"no. of consonents are {nofconsonents}\")\n"
   ]
  },
  {
   "cell_type": "code",
   "execution_count": null,
   "metadata": {},
   "outputs": [],
   "source": [
    "# Q7. Define a function to sum n natural numbers. Use sum and n as a global variable (do not pass as an\n",
    "# argument or local variable) and print the value of sum in the main function.\n",
    "\n",
    "def calculate_sum(n):\n",
    "    sum = n * (n + 1) // 2\n",
    "    return sum\n",
    "\n",
    "def main():\n",
    "    sum = calculate_sum(n)\n",
    "    print(f\"the sum of first {n} natural numbers is : {sum}\")\n",
    "main()\n",
    "\n"
   ]
  },
  {
   "cell_type": "code",
   "execution_count": null,
   "metadata": {},
   "outputs": [],
   "source": [
    "''' # Q8.Define a function in Python which takes a list as an argument, multiplies every element of the input\n",
    "list by 2 and appends new elements to the same list.\n",
    "For example:\n",
    "Input: [1,2,3]\n",
    "Output: [1,2,3,2,4,6]\n",
    "Show that the id of the list passed to the function is the same as the list processed within the function.'''\n",
    "\n",
    "def multiply_append(a):\n",
    "    \n",
    "    elements=[x*2 for x in a ]\n",
    "    a.extend = [elements]\n",
    "    return a\n",
    "input_list=input(input(\"Enter space-separated integers: \"))\n",
    "output_list = multiply_append(input_list)\n",
    "print(\"output:\",output_list)\n",
    "\n"
   ]
  },
  {
   "cell_type": "code",
   "execution_count": null,
   "metadata": {},
   "outputs": [],
   "source": [
    "''' #Q10. Design a nested void function in Python (not-fruitful) to find the reverse of a number entered by a\n",
    "user. Address the following constraints:\n",
    "1. Pass the number entered by the user as a positional argument to the outer function.\n",
    "2. reverse() is an inner function (nested function) and no argument is passed to this function.\n",
    "3. Both the functions are void i.e., they do not return any value to any function.\n",
    "4. Do not use print statements with the functions.'''\n",
    "\n",
    "def reverse_number(num):\n",
    "    def reverse():\n",
    "        \n",
    "        reversed_number= str(num-1)\n",
    "        reversed_number=int(reversed_number)\n",
    "        reverse()\n",
    "user_input =int(input(\"Enter a number:\"))\n",
    "reverse_number(user_input)\n",
    "\n"
   ]
  }
 ],
 "metadata": {
  "kernelspec": {
   "display_name": "Python 3",
   "language": "python",
   "name": "python3"
  },
  "language_info": {
   "codemirror_mode": {
    "name": "ipython",
    "version": 3
   },
   "file_extension": ".py",
   "mimetype": "text/x-python",
   "name": "python",
   "nbconvert_exporter": "python",
   "pygments_lexer": "ipython3",
   "version": "3.11.9"
  }
 },
 "nbformat": 4,
 "nbformat_minor": 2
}
