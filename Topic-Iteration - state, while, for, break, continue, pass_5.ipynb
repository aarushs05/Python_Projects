{
 "cells": [
  {
   "cell_type": "code",
   "execution_count": 4,
   "metadata": {},
   "outputs": [
    {
     "name": "stdout",
     "output_type": "stream",
     "text": [
      " table of 5:\n",
      "5 * 1 = 5\n",
      "5 * 2 = 10\n",
      "5 * 3 = 15\n",
      "5 * 4 = 20\n",
      "5 * 5 = 25\n",
      "5 * 6 = 30\n",
      "5 * 7 = 35\n",
      "5 * 8 = 40\n",
      "5 * 9 = 45\n",
      "5 * 10 = 50\n",
      "5 * 11 = 55\n",
      "5 * 12 = 60\n"
     ]
    }
   ],
   "source": [
    "#Q1. Write a program to print a table of a number input by the user.\n",
    "\n",
    "\n",
    "num = int (input(\"enter the number: \"))\n",
    "print(f\" table of {num}:\")\n",
    "for i in range (1,13):\n",
    "    pass\n",
    "    print(f\"{num} * {i} = {num * i}\")"
   ]
  },
  {
   "cell_type": "code",
   "execution_count": 18,
   "metadata": {},
   "outputs": [
    {
     "name": "stdout",
     "output_type": "stream",
     "text": [
      " factorial of 5 is 120\n"
     ]
    }
   ],
   "source": [
    "#Q2. Write a program for finding the Factorial of a number.\n",
    "\n",
    "\n",
    "num = int (input(\"enter the number: \"))\n",
    "factorial = 1\n",
    "if num < 0:\n",
    "    print(\"error while finding factorial\")\n",
    "elif num == 0:\n",
    "    print(\"the factorial is 1\")\n",
    "else:\n",
    "    for i in range(1, num + 1):\n",
    "        factorial *= i\n",
    "        pass\n",
    "print(f\" factorial of {num} is {factorial}\")\n",
    "        "
   ]
  },
  {
   "cell_type": "code",
   "execution_count": 217,
   "metadata": {},
   "outputs": [
    {
     "name": "stdout",
     "output_type": "stream",
     "text": [
      "The binary representation of 10 is 1010\n"
     ]
    }
   ],
   "source": [
    "#Q3. Write a program for converting Decimal to Binary.\n",
    "\n",
    "n = int(input(\"enter the decimal number : \"))\n",
    "def decimaltobinary(n):\n",
    "    if n == 0:\n",
    "        return \"0\" \n",
    "    binary = \"\"\n",
    "    while n > 0:\n",
    "        binary = str(n % 2) + binary\n",
    "        n = n // 2\n",
    "    return binary\n",
    "binary_number = decimaltobinary(n)\n",
    "print(f\"The binary representation of {n} is {binary_number}\")"
   ]
  },
  {
   "cell_type": "code",
   "execution_count": null,
   "metadata": {},
   "outputs": [],
   "source": [
    "#Q4. Write a program to check for Number Palindrome.\n",
    "\n",
    "\n"
   ]
  },
  {
   "cell_type": "code",
   "execution_count": 31,
   "metadata": {},
   "outputs": [
    {
     "name": "stdout",
     "output_type": "stream",
     "text": [
      "211 is not between 1500 and 2700\n"
     ]
    }
   ],
   "source": [
    "#Q5. Write a Python program to find those numbers which are divisible by two values 7 and 5, between 1500 and 2700 (both included). \n",
    "# Make a generalized program to take all the inputs from the user.\n",
    "\n",
    "num = int(input(\"enter the number \"))\n",
    "\n",
    "if num >=1500 and num <=2700:\n",
    "    if num % 7 == 0 and num % 5 == 0:\n",
    "        print(f\"{num} is divsible by both  7 and 5.\")\n",
    "    else:print (f\"{num} is not divisible by both 7 and 5.\")\n",
    "else:\n",
    "        print(f\"{num} is not between 1500 and 2700\")\n",
    "    "
   ]
  },
  {
   "cell_type": "code",
   "execution_count": 233,
   "metadata": {},
   "outputs": [
    {
     "name": "stdout",
     "output_type": "stream",
     "text": [
      "1234 is an armstrong number\n"
     ]
    }
   ],
   "source": [
    "#Q6. WAP to check Armstrong Number.\n",
    "\n",
    "\n",
    "n = int(input(\"Enter the number: \"))\n",
    "def is_armstrong_number(num):\n",
    "    num_str = str(num)\n",
    "    num_digits = len(num_str)\n",
    "    sum_of_power = 0\n",
    "    for digit in num_str:\n",
    "        sum_of_power += int(digit) ** num_digits\n",
    "    return sum_of_power == num\n",
    "if is_armstrong_number(num):\n",
    "    print(f\"{n} is an armstrong number\")\n",
    "else:\n",
    "    print(f\"{n} is not an armstrong number.\")"
   ]
  },
  {
   "cell_type": "code",
   "execution_count": 49,
   "metadata": {},
   "outputs": [
    {
     "name": "stdout",
     "output_type": "stream",
     "text": [
      "*\n",
      "**\n",
      "***\n",
      "****\n",
      "*****\n"
     ]
    }
   ],
   "source": [
    "#Q7. Write a program to print the following patterns: -\n",
    "#a. *\n",
    "#   * *\n",
    "#   * * *\n",
    "#   * * * *\n",
    "#   * * * * *\n",
    "\n",
    "\n",
    "for i in range(5):\n",
    "    for j in range(i+1):\n",
    "        print(\"*\", end= \"\")\n",
    "    print()"
   ]
  },
  {
   "cell_type": "code",
   "execution_count": 136,
   "metadata": {},
   "outputs": [
    {
     "name": "stdout",
     "output_type": "stream",
     "text": [
      "    1 \n",
      "    1 2 \n",
      "    1 2 3 \n",
      "    1 2 3 4 \n",
      "    1 2 3 4 5 \n"
     ]
    }
   ],
   "source": [
    "#Q7. Write a program to print the following patterns: -\n",
    "#b. 1\n",
    "#   1 2 \n",
    "#   1 2 3\n",
    "#   1 2 3 4 \n",
    "#   1 2 3 4 5 \n",
    "\n",
    "\n",
    "\n",
    "n =5\n",
    "\n",
    "for i in range (1, n + 1):\n",
    "    \n",
    "    print(\" \" * (n - 1), end=\"\")\n",
    "    \n",
    "    for j in range  (1, i + 1):\n",
    "        print(j, end= \" \")\n",
    "    print()  "
   ]
  },
  {
   "cell_type": "code",
   "execution_count": 10,
   "metadata": {},
   "outputs": [
    {
     "name": "stdout",
     "output_type": "stream",
     "text": [
      "    1\n",
      "   12\n",
      "  123\n",
      " 1234\n",
      "12345\n"
     ]
    }
   ],
   "source": [
    "#Q7. Write a program to print the following patterns: -\n",
    "#c.          1\n",
    "#          1 2\n",
    "#        1 2 3\n",
    "#      1 2 3 4\n",
    "#    1 2 3 4 5\n",
    "\n",
    "\n",
    "n =5\n",
    "\n",
    "for i in range (1, n+1 ):\n",
    "    \n",
    "    print(\" \" * (n-i), end=\"\")\n",
    "    \n",
    "    for j in range  (1, i + 1):\n",
    "        print(j, end= \"\")\n",
    "    print()  "
   ]
  },
  {
   "cell_type": "code",
   "execution_count": 135,
   "metadata": {},
   "outputs": [
    {
     "name": "stdout",
     "output_type": "stream",
     "text": [
      "*****\n",
      "****\n",
      "***\n",
      "**\n",
      "*\n"
     ]
    }
   ],
   "source": [
    "#Q7. Write a program to print the following patterns: -\n",
    "#d. * * * * *\n",
    "#   * * * *\n",
    "#   * * *\n",
    "#   * * \n",
    "#   * \n",
    "\n",
    "\n",
    "for i in range(5):\n",
    "    for j in range(5-i):\n",
    "        print(\"*\", end= \"\")\n",
    "    print()"
   ]
  },
  {
   "cell_type": "code",
   "execution_count": 6,
   "metadata": {},
   "outputs": [
    {
     "name": "stdout",
     "output_type": "stream",
     "text": [
      "         1 \n",
      "       1 2 3 \n",
      "     1 2 3 4 5 \n",
      "   1 2 3 4 5 6 7 \n",
      " 1 2 3 4 5 6 7 8 9 \n"
     ]
    }
   ],
   "source": [
    "##Q7. Write a program to print the following patterns: -\n",
    "#e.\n",
    "#    1\n",
    "#   123\n",
    "#  12345\n",
    "# 1234567\n",
    "#123456789\n",
    "\n",
    "\n",
    "n = 9\n",
    "\n",
    "\n",
    "for i in range(1, n + 1,2):\n",
    "\n",
    "    print(\" \" * (n -i), end=\" \")\n",
    "\n",
    "    for j in range(1, i +1):\n",
    "        print(j, end=\" \")\n",
    "    print()\n"
   ]
  },
  {
   "cell_type": "code",
   "execution_count": null,
   "metadata": {},
   "outputs": [],
   "source": [
    "#Q7. Write a program to print the following patterns: -\n",
    "#f."
   ]
  },
  {
   "cell_type": "code",
   "execution_count": 8,
   "metadata": {},
   "outputs": [
    {
     "name": "stdout",
     "output_type": "stream",
     "text": [
      "The sum of elements greater than 5 is: 30\n"
     ]
    }
   ],
   "source": [
    "#Q8. WAP to calculate the sum of elements in a list that are greater than a given number.\n",
    "\n",
    "def sum_greater_than(lst , num):\n",
    "    total = 0\n",
    "    for element in lst:\n",
    "        if element > num:  \n",
    "            total += element\n",
    "    return total\n",
    "\n",
    "lst=[1,2,3,4,5,6,7,8,9]\n",
    "    \n",
    "num=5\n",
    "result = sum_greater_than(lst, num)\n",
    "print(\"The sum of elements greater than\", num, \"is:\", result)"
   ]
  },
  {
   "cell_type": "code",
   "execution_count": 1,
   "metadata": {},
   "outputs": [
    {
     "name": "stdout",
     "output_type": "stream",
     "text": [
      "1 \n",
      "1 2 \n",
      "1 2 3 \n",
      "1 2 3 4 \n",
      "1 2 3 4 5 \n"
     ]
    }
   ],
   "source": [
    "n =5\n",
    "\n",
    "for i in range (1, n + 1):\n",
    "    for j in range  (1, i + 1):\n",
    "        print(j, end= \" \")\n",
    "    print()  "
   ]
  },
  {
   "cell_type": "code",
   "execution_count": 4,
   "metadata": {},
   "outputs": [
    {
     "name": "stdout",
     "output_type": "stream",
     "text": [
      "5 \n",
      "5 4 \n",
      "5 4 3 \n",
      "5 4 3 2 \n",
      "5 4 3 2 1 \n"
     ]
    }
   ],
   "source": [
    "n =5\n",
    "\n",
    "for i in range (1, n + 1):\n",
    "    for j in range  (1, i + 1):\n",
    "        print(n-j+1\n",
    "            , end= \" \")\n",
    "    print()  "
   ]
  },
  {
   "cell_type": "code",
   "execution_count": null,
   "metadata": {},
   "outputs": [],
   "source": []
  }
 ],
 "metadata": {
  "kernelspec": {
   "display_name": "Python 3",
   "language": "python",
   "name": "python3"
  },
  "language_info": {
   "codemirror_mode": {
    "name": "ipython",
    "version": 3
   },
   "file_extension": ".py",
   "mimetype": "text/x-python",
   "name": "python",
   "nbconvert_exporter": "python",
   "pygments_lexer": "ipython3",
   "version": "3.12.5"
  }
 },
 "nbformat": 4,
 "nbformat_minor": 2
}
