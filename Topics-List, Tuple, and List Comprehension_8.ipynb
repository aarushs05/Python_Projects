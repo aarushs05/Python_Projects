{
 "cells": [
  {
   "cell_type": "code",
   "execution_count": 32,
   "metadata": {},
   "outputs": [
    {
     "name": "stdout",
     "output_type": "stream",
     "text": [
      "the tuple is  (1, 2, 3, 4, 5)\n",
      "120\n",
      "<class 'tuple'>\n"
     ]
    }
   ],
   "source": [
    "#Q1. Write a program to find the product of all elements in tuples\n",
    "\n",
    "\n",
    "list = (1,2,3,4,5)\n",
    "product=1\n",
    "for i in list:\n",
    "    product *=i\n",
    "print(\"the tuple is \",list)\n",
    "print(product)\n",
    "print(type(list))"
   ]
  },
  {
   "cell_type": "code",
   "execution_count": 24,
   "metadata": {},
   "outputs": [
    {
     "name": "stdout",
     "output_type": "stream",
     "text": [
      "(1, 2, 3, 4, 5, 6, 9, 10, 11)\n"
     ]
    }
   ],
   "source": [
    "#Q2. Write a function to merge two tuples and remove duplicates.\n",
    "\n",
    "def merge_and_remove_duplicates(t1, t2):\n",
    "    merged_tuple = tuple(set(t1 + t2))\n",
    "    return merged_tuple\n",
    "t1= (1,2,3,5,6,9)\n",
    "t2= (3,4,5,6,11,10)\n",
    "\n",
    "print(merge_and_remove_duplicates(t1, t2))\n"
   ]
  },
  {
   "cell_type": "code",
   "execution_count": 33,
   "metadata": {},
   "outputs": [
    {
     "name": "stdout",
     "output_type": "stream",
     "text": [
      "(1, 2, 3, 4)\n",
      "('a', 'b', 'c', 'd')\n"
     ]
    }
   ],
   "source": [
    "# Q3. Write a Python function that accepts a variable number of arguments and returns a tuple containing\n",
    "def variable_arguments_to_tuple(*arguments):\n",
    "    return tuple(arguments)\n",
    "print(variable_arguments_to_tuple(1, 2, 3, 4))  \n",
    "print(variable_arguments_to_tuple('a', 'b', 'c', 'd',)) "
   ]
  },
  {
   "cell_type": "code",
   "execution_count": 28,
   "metadata": {},
   "outputs": [
    {
     "name": "stdout",
     "output_type": "stream",
     "text": [
      "(10, 24)\n",
      "(11, 30)\n"
     ]
    }
   ],
   "source": [
    "# Q4. the sum and product of all the arguments.\n",
    "\n",
    "def sum_and_product(*arguments):\n",
    "    total_sum = sum(arguments)\n",
    "    product = 1\n",
    "    for numbers in arguments:\n",
    "        product *= numbers\n",
    "    return (total_sum, product)\n",
    "\n",
    "\n",
    "print(sum_and_product(1, 2, 3, 4))\n",
    "print(sum_and_product(5, 6))"
   ]
  },
  {
   "cell_type": "code",
   "execution_count": 45,
   "metadata": {},
   "outputs": [
    {
     "ename": "TypeError",
     "evalue": "'tuple' object is not callable",
     "output_type": "error",
     "traceback": [
      "\u001b[1;31m---------------------------------------------------------------------------\u001b[0m",
      "\u001b[1;31mTypeError\u001b[0m                                 Traceback (most recent call last)",
      "Cell \u001b[1;32mIn[45], line 15\u001b[0m\n\u001b[0;32m     12\u001b[0m list1 \u001b[38;5;241m=\u001b[39m [\u001b[38;5;241m1\u001b[39m, \u001b[38;5;241m2\u001b[39m, \u001b[38;5;241m3\u001b[39m]\n\u001b[0;32m     13\u001b[0m list2 \u001b[38;5;241m=\u001b[39m [\u001b[38;5;124m'\u001b[39m\u001b[38;5;124ma\u001b[39m\u001b[38;5;124m'\u001b[39m, \u001b[38;5;124m'\u001b[39m\u001b[38;5;124mb\u001b[39m\u001b[38;5;124m'\u001b[39m, \u001b[38;5;124m'\u001b[39m\u001b[38;5;124mc\u001b[39m\u001b[38;5;124m'\u001b[39m, \u001b[38;5;124m'\u001b[39m\u001b[38;5;124md\u001b[39m\u001b[38;5;124m'\u001b[39m]\n\u001b[1;32m---> 15\u001b[0m zipped \u001b[38;5;241m=\u001b[39m \u001b[43mzip_and_unzip\u001b[49m\u001b[43m(\u001b[49m\u001b[43mlist1\u001b[49m\u001b[43m,\u001b[49m\u001b[43m \u001b[49m\u001b[43mlist2\u001b[49m\u001b[43m)\u001b[49m\n\u001b[0;32m     17\u001b[0m \u001b[38;5;28mprint\u001b[39m(\u001b[38;5;124m\"\u001b[39m\u001b[38;5;124mZipped:\u001b[39m\u001b[38;5;124m\"\u001b[39m, zipped)  \n\u001b[0;32m     18\u001b[0m \u001b[38;5;66;03m# Output: Zipped: [(1, 'a'), (2, 'b'), (3, 'c')]\u001b[39;00m\n",
      "Cell \u001b[1;32mIn[45], line 5\u001b[0m, in \u001b[0;36mzip_and_unzip\u001b[1;34m(list1, list2)\u001b[0m\n\u001b[0;32m      3\u001b[0m \u001b[38;5;28;01mdef\u001b[39;00m \u001b[38;5;21mzip_and_unzip\u001b[39m(list1, list2):\n\u001b[0;32m      4\u001b[0m     \u001b[38;5;66;03m# Zip up to the length of the shorter list\u001b[39;00m\n\u001b[1;32m----> 5\u001b[0m     zipped \u001b[38;5;241m=\u001b[39m \u001b[38;5;28;43mlist\u001b[39;49m\u001b[43m(\u001b[49m\u001b[38;5;28;43mzip\u001b[39;49m\u001b[43m(\u001b[49m\u001b[43mlist1\u001b[49m\u001b[43m,\u001b[49m\u001b[43m \u001b[49m\u001b[43mlist2\u001b[49m\u001b[43m)\u001b[49m\u001b[43m)\u001b[49m\n\u001b[0;32m      7\u001b[0m     \u001b[38;5;66;03m# Unzip the zipped pairs back into separate lists\u001b[39;00m\n\u001b[0;32m      8\u001b[0m     unzipped \u001b[38;5;241m=\u001b[39m \u001b[38;5;28mlist\u001b[39m(\u001b[38;5;28mzip\u001b[39m(\u001b[38;5;241m*\u001b[39mzipped))\n",
      "\u001b[1;31mTypeError\u001b[0m: 'tuple' object is not callable"
     ]
    }
   ],
   "source": [
    "# Q5. Write a Python program to zip two lists into a list of tuples and then unzip the tuples back into separate lists.\n",
    "\n",
    "# def zip_and_unzip(list1, list2):\n",
    "#     zipped = list(zip(list1, list2))\n",
    "#     unzipped = list(zip(*zipped))\n",
    "#     return zipped, list(unzipped[0]), list(unzipped[1])\n",
    "# list1 = [1, 2, 3]\n",
    "# list2 = ['a', 'b', 'c', 'd']\n",
    "\n",
    "# zipped = zip_and_unzip(list1, list2)\n",
    "\n",
    "# print(\"Zipped:\", zipped)  \n",
    "# print(\"Unzipped List1:\", list1_unzipped)  \n",
    "# print(\"Unzipped List2:\", list2_unzipped)  \n"
   ]
  },
  {
   "cell_type": "code",
   "execution_count": 37,
   "metadata": {},
   "outputs": [
    {
     "name": "stdout",
     "output_type": "stream",
     "text": [
      "((2, 1), (3, 2), (1, 3), (4, 4), (6, 6), (99, 99))\n"
     ]
    }
   ],
   "source": [
    "# Q6. Write a program to sort tuple of tuples by second item.\n",
    "\n",
    "def sorting_by_the_second_item(tuple_of_tuples):\n",
    "    return tuple(sorted(tuple_of_tuples, key=lambda c: c[1]))\n",
    "\n",
    "tuple_of_tuples = ((1, 3), (2, 1), (3, 2),(4,4),(6,6),(99,99))\n",
    "sorted_tuple = sorting_by_the_second_item(tuple_of_tuples)\n",
    "print(sorted_tuple)"
   ]
  },
  {
   "cell_type": "code",
   "execution_count": 38,
   "metadata": {},
   "outputs": [
    {
     "name": "stdout",
     "output_type": "stream",
     "text": [
      "I made your tuna sandwich.\n",
      "I made your double sandwich.\n",
      "I made your veg sandwich.\n",
      "I made your fresh garliic sandwich.\n",
      "I made your tofu sandwich.\n",
      "I made your extra cheese sandwich.\n",
      "I made your paneer sandwich.\n",
      "Finished sandwiches:\n",
      "tuna\n",
      "double\n",
      "veg\n",
      "fresh garliic\n",
      "tofu\n",
      "extra cheese\n",
      "paneer\n"
     ]
    }
   ],
   "source": [
    "'''Q7. Make a tuple of list called sandwich_orders and fill it with the names of various sandwiches.\n",
    "Then make an empty list called finished_sandwiches. Loop through the list of sandwich orders and\n",
    "print a message for each order, such as I made your tuna sandwich. As each sandwich is made,\n",
    "move it to the list of finished sandwiches. After all the sandwiches have been made, print a\n",
    "message listing each sandwich that was made.'''\n",
    "\n",
    "\n",
    "\n",
    "sandwich_orders = ('tuna', 'double', 'veg', 'fresh garliic','tofu','extra cheese','paneer')\n",
    "finished_sandwiches = []\n",
    "\n",
    "for sandwich in sandwich_orders:\n",
    "    print(f\"I made your {sandwich} sandwich.\")\n",
    "    finished_sandwiches.append(sandwich)\n",
    "\n",
    "print(\"Finished sandwiches:\")\n",
    "for sandwich in finished_sandwiches:\n",
    "    print(sandwich)"
   ]
  },
  {
   "cell_type": "code",
   "execution_count": 39,
   "metadata": {},
   "outputs": [
    {
     "name": "stdout",
     "output_type": "stream",
     "text": [
      "cubes of first 10 numbers  [1, 8, 27, 64, 125, 216, 343, 512, 729, 1000]\n"
     ]
    }
   ],
   "source": [
    "# Q8. Use a list comprehension to generate a list of the first 10 cubes.\n",
    "\n",
    "cubes = [x**3 for x in range(1, 11)]\n",
    "print(\"cubes of first 10 numbers \",cubes) "
   ]
  },
  {
   "cell_type": "code",
   "execution_count": 40,
   "metadata": {},
   "outputs": [
    {
     "name": "stdout",
     "output_type": "stream",
     "text": [
      "('1', '2', '3', '4', '5', '6', '7', '8', '9', '10')\n"
     ]
    }
   ],
   "source": [
    "# Q9. Write a program to convert a tuple of integers to a tuple of strings using list comprehension.\n",
    "\n",
    "def conversion_of_tuple_to_string(tuple_of_integers):\n",
    "    return tuple(str(i) for i in tuple_of_integers)\n",
    "tuple_of_integers = (1, 2, 3, 4, 5, 6, 7,8 , 9, 10)\n",
    "print(conversion_of_tuple_to_string(tuple_of_integers))"
   ]
  },
  {
   "cell_type": "code",
   "execution_count": 14,
   "metadata": {},
   "outputs": [
    {
     "name": "stdout",
     "output_type": "stream",
     "text": [
      "[2, 3, 4, 5, 6, 7, 8, 9, 10, 12, 14, 15, 16, 18, 20, 21, 22, 24, 25, 26, 27, 28, 30, 32, 33, 34, 35, 36, 38, 39, 40, 42, 44, 45, 46, 48, 49, 50, 51, 52, 54, 55, 56, 57, 58, 60, 62, 63, 64, 65, 66, 68, 69, 70, 72, 74, 75, 76, 77, 78, 80, 81, 82, 84, 85, 86, 87, 88, 90, 91, 92, 93, 94, 95, 96, 98, 99, 100]\n"
     ]
    }
   ],
   "source": [
    "# Q10. Use a nested list comprehension to find all of the numbers from 1-100 that are divisible by any single digit besides 1 (2-9)\n",
    "\n",
    "divisible_by_single_digit = [x for x in range(1, 101) if any(x % d == 0 for d in range(2, 10))]\n",
    "print(divisible_by_single_digit)\n"
   ]
  }
 ],
 "metadata": {
  "kernelspec": {
   "display_name": "Python 3",
   "language": "python",
   "name": "python3"
  },
  "language_info": {
   "codemirror_mode": {
    "name": "ipython",
    "version": 3
   },
   "file_extension": ".py",
   "mimetype": "text/x-python",
   "name": "python",
   "nbconvert_exporter": "python",
   "pygments_lexer": "ipython3",
   "version": "3.11.9"
  }
 },
 "nbformat": 4,
 "nbformat_minor": 2
}
